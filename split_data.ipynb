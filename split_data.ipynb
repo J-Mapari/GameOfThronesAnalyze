{
 "cells": [
  {
   "cell_type": "markdown",
   "metadata": {},
   "source": [
    "### Splitting the existing data we have\n",
    "Operating this data on its own is time consuming, we will instead use pythont o split it in smaller csv files. \n",
    "I split it along the lines of:\n",
    "1. Episode\n",
    "2. Character\n",
    "3. Season\n"
   ]
  },
  {
   "cell_type": "markdown",
   "metadata": {},
   "source": [
    "### STEP 1:\n",
    "importing pandas and os, this will make it easy to split and save the data. "
   ]
  },
  {
   "cell_type": "code",
   "execution_count": 1,
   "metadata": {},
   "outputs": [
    {
     "name": "stderr",
     "output_type": "stream",
     "text": [
      "C:\\Users\\jjaym\\AppData\\Local\\Packages\\PythonSoftwareFoundation.Python.3.11_qbz5n2kfra8p0\\LocalCache\\local-packages\\Python311\\site-packages\\fuzzywuzzy\\fuzz.py:11: UserWarning: Using slow pure-python SequenceMatcher. Install python-Levenshtein to remove this warning\n",
      "  warnings.warn('Using slow pure-python SequenceMatcher. Install python-Levenshtein to remove this warning')\n"
     ]
    }
   ],
   "source": [
    "import pandas as pd\n",
    "import numpy as np\n",
    "from fuzzywuzzy import fuzz\n",
    "from sklearn.feature_extraction.text import TfidfVectorizer\n",
    "from sklearn.cluster import KMeans\n",
    "import os\n",
    "from collections import Counter\n",
    "import re"
   ]
  },
  {
   "cell_type": "markdown",
   "metadata": {},
   "source": [
    "### STEP 2:\n",
    "give the file_path of the entire script I have, and then read it through pandas into DataFrame"
   ]
  },
  {
   "cell_type": "code",
   "execution_count": 2,
   "metadata": {},
   "outputs": [],
   "source": [
    "file_path = 'game_of_thrones_data.csv'\n",
    "df = pd.read_csv(file_path)\n",
    "# print(df.head(n = 10))\n",
    "# returns the first 10 records. "
   ]
  },
  {
   "cell_type": "markdown",
   "metadata": {},
   "source": [
    "### STEP 3:\n",
    "creating directories using os library and indicate that it is fine if the directory already exists. "
   ]
  },
  {
   "cell_type": "code",
   "execution_count": 3,
   "metadata": {},
   "outputs": [],
   "source": [
    "os.makedirs('Seasons', exist_ok=True)\n",
    "os.makedirs('Name', exist_ok=\"True\")\n",
    "os.makedirs('Episode', exist_ok=True)"
   ]
  },
  {
   "cell_type": "markdown",
   "metadata": {},
   "source": [
    "### STEP 4:\n",
    "1. Seasonal Split, split each seasonal df into multiple dfs based on unique Season values. \n",
    "2. Same thing for Episodes.\n",
    "3. Same things for (a few characters)."
   ]
  },
  {
   "cell_type": "code",
   "execution_count": 5,
   "metadata": {},
   "outputs": [],
   "source": [
    "for season in df['Season'].unique():\n",
    "    season_df = df[df['Season'] == season]\n",
    "    season_df.to_csv(f'Seasons/{season}.csv', index=False) \n",
    "\n",
    "for ep in df['Episode'].unique():\n",
    "    episode_df = df[df['Episode'] == ep]\n",
    "    episode_df.to_csv(f'Episode/{ep}.csv', index = False)\n",
    "\n",
    "def normalize_name(name):\n",
    "    if isinstance(name, str):\n",
    "        return re.sub(r'\\s+', ' ', name).strip().lower()\n",
    "    return '' \n",
    "\n",
    "top_characters = [\n",
    "    'Will', 'Rickard Karstark', 'Syrio Forel', 'Kraznys mo Nakloz', 'Lyanna Stark',\n",
    "    'Maester Lewin', 'Prince Doran Martell', 'Leaf', 'Mirri Maz Duur', 'Janos Slynt',\n",
    "    'Euron Greyjoy', 'Lady Crane', 'Qhorin Halfhand', 'Robin Arryn', 'Lysa Arryn',\n",
    "    'Ros', 'Hot Pie', 'Meryn Trant', 'Selyse Baratheon', 'Rickon Stark', 'Jeor Mormont',\n",
    "    'The Waif', 'Wun Wun', 'Pyat Pree', 'Obara Sand', 'Edd Tollett', 'Three-Eyed Raven',\n",
    "    'Tommen Baratheon', 'Balon Greyjoy', 'Mance Rayder', 'Craster', 'Maester Aemon',\n",
    "    'Mace Tyrell', 'Maester Pycelle', 'Lancel Lannister', 'Olly', 'Osha', 'Alliser Thorne',\n",
    "    'Talisa Maegyr', 'Qyburn', 'Gendry', 'Benjen Stark', 'Barristan Selmy', 'Edmure Tully',\n",
    "    'Beric Dondarrion', 'Missandei', 'Jojen Reed', 'Thoros of Myr', 'Brynden \"The Blackfish\" Tully',\n",
    "    'Shae', 'Hodor', 'Khal Drogo', 'Loras Tyrell', 'Daario Naharis', 'Ellaria Sand',\n",
    "    'High Sparrow', 'Jaqen H\\'ghar', 'Renly Baratheon', 'Shireen Baratheon', 'Meera Reed',\n",
    "    'Podrick Payne', 'Yara Greyjoy', 'Grey Worm', 'Tormund Giantsbane', 'Gilly',\n",
    "    'Robert Baratheon', 'Gregor Clegane', 'The Night King', 'Ygritte', 'Samwell Tarly',\n",
    "    'Walder Frey', 'Oberyn Martell', 'Robb Stark', 'Roose Bolton', 'Ramsay Bolton',\n",
    "    'Olenna Tyrell', 'Jorah Mormont', 'Stannis Baratheon', 'Bronn', 'Margaery Tyrell',\n",
    "    'Theon Greyjoy', 'Melisandre', 'Sandor \"The Hound\" Clegane', 'Bran Stark', 'Joffrey Baratheon',\n",
    "    'Petyr \"Littlefinger\" Baelish', 'Brienne of Tarth', 'Davos Seaworth', 'Sansa Stark',\n",
    "    'Catelyn Stark', 'Varys', 'Tywin Lannister', 'Eddard Stark', 'Jaime Lannister',\n",
    "    'Arya Stark', 'Cersei Lannister', 'Jon Snow', 'Daenerys Targaryen', 'Tyrion Lannister'\n",
    "]\n",
    "\n",
    "normalized_top_characters = {normalize_name(char): char for char in top_characters}\n",
    "\n",
    "for name in df['Name'].unique():\n",
    "    normalized_name = normalize_name(name)\n",
    "    if normalized_name in normalized_top_characters:\n",
    "        name_df = df[df['Name'] == name]\n",
    "        file_name = f'Name/{normalized_top_characters[normalized_name]}.csv'\n",
    "        name_df.to_csv(file_name, index=False)\n"
   ]
  }
 ],
 "metadata": {
  "kernelspec": {
   "display_name": "Python 3",
   "language": "python",
   "name": "python3"
  },
  "language_info": {
   "codemirror_mode": {
    "name": "ipython",
    "version": 3
   },
   "file_extension": ".py",
   "mimetype": "text/x-python",
   "name": "python",
   "nbconvert_exporter": "python",
   "pygments_lexer": "ipython3",
   "version": "3.11.9"
  }
 },
 "nbformat": 4,
 "nbformat_minor": 2
}
